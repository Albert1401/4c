{
 "cells": [
  {
   "cell_type": "code",
   "execution_count": 1,
   "metadata": {
    "collapsed": true
   },
   "outputs": [],
   "source": [
    "import numpy as np\n",
    "import matplotlib\n",
    "matplotlib.use('QT5Agg')\n",
    "from mpl_toolkits.mplot3d import Axes3D\n",
    "import matplotlib.pyplot as plt\n",
    "import pandas as pd\n",
    "from numpy.linalg import norm\n",
    "from sklearn.model_selection import train_test_split\n",
    "from itertools import product"
   ]
  },
  {
   "cell_type": "code",
   "execution_count": 2,
   "metadata": {
    "collapsed": true
   },
   "outputs": [],
   "source": [
    "def print_info(ws, x_train, y_train, x_test, y_test):\n",
    "    print('Веса:', ws)\n",
    "    print('Квадратичное отклонение от обучающей выборки:\\t\\t\\t\\t', Q(ws, x_train, y_train))\n",
    "    print('Среднее отклонение от обучающей выборки в процентах:\\t\\t\\t', procQ(ws, x_train, y_train))\n",
    "    print('Квадратичное отклонение от тестовой выборки:\\t\\t\\t\\t', Q(ws, x_test, y_test))\n",
    "    print('Среднее отклонение от тестовой выборки в процентах:\\t\\t\\t', procQ(ws, x_test, y_test))"
   ]
  },
  {
   "cell_type": "code",
   "execution_count": 3,
   "metadata": {
    "collapsed": true
   },
   "outputs": [],
   "source": [
    "data = pd.read_csv('prices.txt')"
   ]
  },
  {
   "cell_type": "code",
   "execution_count": 4,
   "metadata": {
    "collapsed": true
   },
   "outputs": [],
   "source": [
    "datax = data[['area', 'rooms']].values\n",
    "datax = np.insert(datax, 2, -1, axis = 1)\n",
    "datay = data['price'].values"
   ]
  },
  {
   "cell_type": "code",
   "execution_count": 5,
   "metadata": {
    "collapsed": true
   },
   "outputs": [],
   "source": [
    "datax1 = data[['area', 'rooms']].values\n",
    "datax1 = np.insert(datax1, 2, datax1.T[0] / datax1.T[1], axis = 1)\n",
    "datax1 = np.insert(datax1, 3, -1, axis = 1)\n",
    "datay1 = data['price'].values"
   ]
  },
  {
   "cell_type": "code",
   "execution_count": 6,
   "metadata": {
    "collapsed": true
   },
   "outputs": [],
   "source": [
    "def fit(ws, x):\n",
    "    return np.inner(ws, x)"
   ]
  },
  {
   "cell_type": "code",
   "execution_count": 7,
   "metadata": {
    "collapsed": true
   },
   "outputs": [],
   "source": [
    "def L(ws, x, y):\n",
    "    return (y - fit(ws, x)) ** 2"
   ]
  },
  {
   "cell_type": "code",
   "execution_count": 8,
   "metadata": {
    "collapsed": true
   },
   "outputs": [],
   "source": [
    "def Q(ws, xs, ys):\n",
    "    q = 0\n",
    "    for x, y in zip(xs, ys):\n",
    "        q += L(ws, x, y)\n",
    "    return (q / len(ys)) ** 0.5"
   ]
  },
  {
   "cell_type": "code",
   "execution_count": 9,
   "metadata": {
    "collapsed": true
   },
   "outputs": [],
   "source": [
    "def procQ(ws, xs, ys):\n",
    "    pr = 0\n",
    "    for x, y in zip(xs, ys):\n",
    "        yhat = fit(ws, x)\n",
    "        pr += abs(yhat - y) / y * 100\n",
    "    return pr / len(ys)"
   ]
  },
  {
   "cell_type": "code",
   "execution_count": 10,
   "metadata": {
    "collapsed": true
   },
   "outputs": [],
   "source": [
    "def gradL(ws, x, y):\n",
    "    return -1 * (y - fit(ws, x)) * x"
   ]
  },
  {
   "cell_type": "code",
   "execution_count": 11,
   "metadata": {
    "collapsed": true
   },
   "outputs": [],
   "source": [
    "def gradQ(ws, xs, ys):\n",
    "    g = 0\n",
    "    for x, y in zip(xs, ys):\n",
    "        g += gradL(ws, x, y)\n",
    "    return g"
   ]
  },
  {
   "cell_type": "code",
   "execution_count": 12,
   "metadata": {
    "collapsed": true
   },
   "outputs": [],
   "source": [
    "def de(xs, ys, gen_size = 20, F = 1.2, p = 0.7, n = 600):\n",
    "    gen = (np.random.rand(gen_size, xs.shape[1]) - 0.5) * 10000\n",
    "    for _ in range(n):\n",
    "        new_gen = gen.copy()\n",
    "        for i in range(gen_size):\n",
    "            vs = np.random.randint(0, gen_size, size=3)\n",
    "            while len(np.unique(vs)) != 3 or i in vs:\n",
    "                vs = np.random.randint(0, gen_size, size=3)\n",
    "            \n",
    "            v = gen[vs[0]] + F * (gen[vs[1]] - gen[vs[2]])\n",
    "            for j in range(xs.shape[1]):\n",
    "                if np.random.rand(1) > p:\n",
    "                    v[j] = gen[i][j]\n",
    "            if Q(v, xs, ys) < Q(gen[i], xs, ys):\n",
    "                new_gen[i] = v\n",
    "        gen = new_gen\n",
    "        \n",
    "    qs = np.array(list(map(lambda v: Q(v, xs, ys), gen)))\n",
    "    return gen[qs.argmin()]"
   ]
  },
  {
   "cell_type": "code",
   "execution_count": 13,
   "metadata": {
    "collapsed": true
   },
   "outputs": [],
   "source": [
    "def gd(xs, ys, n = 5000, eps = 1e-8):\n",
    "    ws = (np.random.rand(xs.shape[1]) - 0.5) * 1000\n",
    "    \n",
    "    H = np.zeros((xs.shape[1],xs.shape[1]))\n",
    "    for i in range(xs.shape[1]):\n",
    "        for j in range(xs.shape[1]):\n",
    "            H[i][j] = sum(map(lambda x: x[i] * x[j], xs))\n",
    "        \n",
    "    p = 0\n",
    "    b = 0\n",
    "    for i in range(n):\n",
    "        alpha = 0\n",
    "        if (i > 0):\n",
    "            b = np.inner(gr, gr)\n",
    "        gr = gradQ(ws, xs, ys)\n",
    "        if (i > 0):\n",
    "            b = np.inner(gr, gr) / b\n",
    "        p = -gr + b * p\n",
    "        alpha = -1 * np.inner(gr, p) / np.inner(np.dot(p, H), p)\n",
    "        \n",
    "        ws_next = ws + alpha * p        \n",
    "        if norm(ws_next - ws, 2) < eps:\n",
    "            return ws_next, i\n",
    "        ws = ws_next\n",
    "    return ws, -1"
   ]
  },
  {
   "cell_type": "code",
   "execution_count": 14,
   "metadata": {
    "collapsed": true
   },
   "outputs": [],
   "source": [
    "def LOO(xs, ys, method, **kwargs):\n",
    "    err = 0\n",
    "    for i in range(len(xs)):\n",
    "        ws = method(np.append(xs[:i], xs[i + 1:], axis = 0), \n",
    "                    np.append(ys[:i], ys[i + 1:], axis = 0),\n",
    "                    **kwargs)\n",
    "        err += L(ws, xs[i], ys[i]) / len(xs)\n",
    "    return err, ws"
   ]
  },
  {
   "cell_type": "code",
   "execution_count": 15,
   "metadata": {
    "collapsed": true
   },
   "outputs": [],
   "source": [
    "# def find_ws_with_de(xs, ys, N):\n",
    "#     gen_size = zip(['gen_size'] * 4, range(20, 100, 50))\n",
    "#     F = [('F', 0.8 + 0.3 * i) for i in range(4)]\n",
    "#     p = [('p', 0.2 + 0.3 * i) for i in range(3)]\n",
    "#     err = []\n",
    "#     params = []\n",
    "#     for args in map(dict, product(F, p, gen_size)):\n",
    "#         print(args)\n",
    "#         args['n'] = N // args['gen_size']\n",
    "#         print(LOO(xs, ys, de, **args))\n",
    "#     return params, err"
   ]
  },
  {
   "cell_type": "code",
   "execution_count": 16,
   "metadata": {
    "collapsed": true
   },
   "outputs": [],
   "source": [
    "def find_ws_with_gd(xs, ys):\n",
    "    return gd(xs, ys)"
   ]
  },
  {
   "cell_type": "code",
   "execution_count": 17,
   "metadata": {
    "collapsed": true
   },
   "outputs": [],
   "source": [
    "seed = np.random.randint(100)"
   ]
  },
  {
   "cell_type": "code",
   "execution_count": 18,
   "metadata": {
    "collapsed": true
   },
   "outputs": [],
   "source": [
    "test_size = 10\n",
    "x_train1, x_test1, y_train1, y_test1 = train_test_split(datax1, datay1, \n",
    "                                                test_size = test_size, train_size = len(data) - test_size,\n",
    "                                                random_state = seed)"
   ]
  },
  {
   "cell_type": "code",
   "execution_count": 19,
   "metadata": {
    "collapsed": true
   },
   "outputs": [],
   "source": [
    "test_size = 10\n",
    "x_train, x_test, y_train, y_test = train_test_split(datax, datay, \n",
    "                                                test_size = test_size, train_size = len(data) - test_size,\n",
    "                                                random_state = seed)"
   ]
  },
  {
   "cell_type": "code",
   "execution_count": 20,
   "metadata": {
    "collapsed": true
   },
   "outputs": [],
   "source": [
    "def draw_train_test():\n",
    "    fig = plt.figure()\n",
    "    plt.plot()\n",
    "    ax = fig.add_subplot(111, projection ='3d')\n",
    "    ax.plot(x_train.T[0],x_train.T[1],y_train, 'ro')\n",
    "    ax.plot(x_test.T[0],x_test.T[1],y_test, 'bo')\n",
    "\n",
    "    plt.show()"
   ]
  },
  {
   "cell_type": "code",
   "execution_count": 21,
   "metadata": {
    "collapsed": true
   },
   "outputs": [],
   "source": [
    "draw_train_test()"
   ]
  },
  {
   "cell_type": "code",
   "execution_count": 22,
   "metadata": {},
   "outputs": [
    {
     "name": "stdout",
     "output_type": "stream",
     "text": [
      "Метод сопряженных градиентов\n",
      "Веса: [   131.82972511  -3378.11050846 -82302.25859416]\n",
      "Квадратичное отклонение от обучающей выборки:\t\t\t\t 64217.5197782\n",
      "Среднее отклонение от обучающей выборки в процентах:\t\t\t 15.4673128677\n",
      "Квадратичное отклонение от тестовой выборки:\t\t\t\t 64659.2616053\n",
      "Среднее отклонение от тестовой выборки в процентах:\t\t\t 14.9972126544\n",
      "Количество итераций: 4\n",
      "---------------------------------\n",
      "Метод сопряженных градиентов\n",
      "Веса: [  2.27240852e+02  -8.06918825e+04  -3.14783375e+02  -3.38542883e+05]\n",
      "Квадратичное отклонение от обучающей выборки:\t\t\t\t 62698.4355506\n",
      "Среднее отклонение от обучающей выборки в процентах:\t\t\t 14.443983628\n",
      "Квадратичное отклонение от тестовой выборки:\t\t\t\t 65771.2050128\n",
      "Среднее отклонение от тестовой выборки в процентах:\t\t\t 15.8952606978\n",
      "Количество итераций: 4\n"
     ]
    }
   ],
   "source": [
    "ws_gr, i = find_ws_with_gd(x_train, y_train)\n",
    "print('Метод сопряженных градиентов')\n",
    "print_info(ws_gr, x_train, y_train, x_test, y_test)\n",
    "print('Количество итераций:', i)\n",
    "\n",
    "print('---------------------------------')\n",
    "\n",
    "ws_gr1, i1 = find_ws_with_gd(x_train1, y_train1)\n",
    "print('Метод сопряженных градиентов')\n",
    "print_info(ws_gr1, x_train1, y_train1, x_test1, y_test1)\n",
    "print('Количество итераций:', i)"
   ]
  },
  {
   "cell_type": "code",
   "execution_count": 23,
   "metadata": {},
   "outputs": [
    {
     "name": "stdout",
     "output_type": "stream",
     "text": [
      "Метод дифференциальной эволюции\n",
      "Веса: [   131.82972558  -3378.11067591 -82302.25811559]\n",
      "Квадратичное отклонение от обучающей выборки:\t\t\t\t 64217.5197782\n",
      "Среднее отклонение от обучающей выборки в процентах:\t\t\t 15.4673128515\n",
      "Квадратичное отклонение от тестовой выборки:\t\t\t\t 64659.2615249\n",
      "Среднее отклонение от тестовой выборки в процентах:\t\t\t 14.9972126198\n",
      "---------------------------------\n",
      "Метод дифференциальной эволюции\n",
      "Веса: [  2.27016505e+02  -8.05065489e+04  -3.14113340e+02  -3.37963949e+05]\n",
      "Квадратичное отклонение от обучающей выборки:\t\t\t\t 62698.4449165\n",
      "Среднее отклонение от обучающей выборки в процентах:\t\t\t 14.4442058154\n",
      "Квадратичное отклонение от тестовой выборки:\t\t\t\t 65770.1518849\n",
      "Среднее отклонение от тестовой выборки в процентах:\t\t\t 15.8915087072\n"
     ]
    }
   ],
   "source": [
    "ws_de = de(x_train, y_train, 20, 1, 0.7, 500)\n",
    "print('Метод дифференциальной эволюции')\n",
    "print_info(ws_de, x_train, y_train, x_test, y_test)\n",
    "\n",
    "print('---------------------------------')\n",
    "\n",
    "ws_de1 = de(x_train1, y_train1, 20, 1, 0.7, 500)\n",
    "print('Метод дифференциальной эволюции')\n",
    "print_info(ws_de1, x_train1, y_train1, x_test1, y_test1)"
   ]
  },
  {
   "cell_type": "code",
   "execution_count": 24,
   "metadata": {},
   "outputs": [
    {
     "name": "stdout",
     "output_type": "stream",
     "text": [
      "Точный ответ\n",
      "Веса: [   131.82972511  -3378.11050846 -82302.25859416]\n",
      "Квадратичное отклонение от обучающей выборки:\t\t\t\t 64217.5197782\n",
      "Среднее отклонение от обучающей выборки в процентах:\t\t\t 15.4673128677\n",
      "Квадратичное отклонение от тестовой выборки:\t\t\t\t 64659.2616053\n",
      "Среднее отклонение от тестовой выборки в процентах:\t\t\t 14.9972126544\n",
      "---------------------------------\n",
      "Точный ответ\n",
      "Веса: [  2.27240852e+02  -8.06918825e+04  -3.14783375e+02  -3.38542883e+05]\n",
      "Квадратичное отклонение от обучающей выборки:\t\t\t\t 62698.4355506\n",
      "Среднее отклонение от обучающей выборки в процентах:\t\t\t 14.443983628\n",
      "Квадратичное отклонение от тестовой выборки:\t\t\t\t 65771.2050129\n",
      "Среднее отклонение от тестовой выборки в процентах:\t\t\t 15.8952606979\n"
     ]
    }
   ],
   "source": [
    "ws_ex = np.dot(np.dot(np.linalg.inv(np.dot(x_train.T, x_train)), x_train.T), y_train)\n",
    "print('Точный ответ')\n",
    "print_info(ws_ex, x_train, y_train, x_test, y_test)\n",
    "\"\"\n",
    "print('---------------------------------')\n",
    "\n",
    "ws_ex1 = np.dot(np.dot(np.linalg.inv(np.dot(x_train1.T, x_train1)), x_train1.T), y_train1)\n",
    "print('Точный ответ')\n",
    "# ws_ex1 = [   139.21067402,  -8738.01911233, 0, -89597.9095428 ]\n",
    "print_info(ws_ex1, x_train1, y_train1, x_test1, y_test1)"
   ]
  },
  {
   "cell_type": "code",
   "execution_count": 25,
   "metadata": {
    "collapsed": true
   },
   "outputs": [],
   "source": [
    "def draw_plane(ws):\n",
    "    point  = np.array([0,0, -ws[2]])\n",
    "    normal = np.array([ws[0], ws[1], -1])\n",
    "    \n",
    "    d = -point.dot(normal)\n",
    "    \n",
    "    nn = 6\n",
    "    xx = np.arange(0, 5000, 5000 / nn)\n",
    "    yy = np.arange(0, 5, 5 / nn)\n",
    "    \n",
    "    xx, yy = np.meshgrid(xx, yy)\n",
    "    \n",
    "    z = (-normal[0] * xx - normal[1] * yy - d) * 1. /normal[2]\n",
    "    \n",
    "    ax = plt.figure().gca(projection='3d')\n",
    "    ax.plot_surface(xx, yy, z)\n",
    "    \n",
    "    \n",
    "    for x, y in zip(x_test, y_test):\n",
    "        ax.plot([x[0], x[0]], [x[1], x[1]], [y, fit(ws, x)], 'k--')\n",
    "    \n",
    "    ax.plot(x_train.T[0],x_train.T[1],y_train, 'ro')\n",
    "    ax.plot(x_test.T[0],x_test.T[1],y_test, 'bo')\n",
    "    \n",
    "    plt.show()"
   ]
  },
  {
   "cell_type": "code",
   "execution_count": 26,
   "metadata": {
    "collapsed": true
   },
   "outputs": [],
   "source": [
    "draw_plane(ws_gr)"
   ]
  }
 ],
 "metadata": {
  "kernelspec": {
   "display_name": "Python 3",
   "language": "python",
   "name": "python3"
  },
  "language_info": {
   "codemirror_mode": {
    "name": "ipython",
    "version": 3
   },
   "file_extension": ".py",
   "mimetype": "text/x-python",
   "name": "python",
   "nbconvert_exporter": "python",
   "pygments_lexer": "ipython3",
   "version": "3.6.2"
  }
 },
 "nbformat": 4,
 "nbformat_minor": 2
}

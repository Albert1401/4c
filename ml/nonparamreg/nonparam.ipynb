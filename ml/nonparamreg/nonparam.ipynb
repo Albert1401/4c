{
 "cells": [
  {
   "cell_type": "code",
   "execution_count": 1,
   "metadata": {},
   "outputs": [],
   "source": [
    "import numpy as np\n",
    "import pandas as pd\n",
    "from sklearn.model_selection import train_test_split\n",
    "import matplotlib.pyplot as plt\n",
    "import math\n",
    "from itertools import product"
   ]
  },
  {
   "cell_type": "code",
   "execution_count": 2,
   "metadata": {},
   "outputs": [],
   "source": [
    "data = pd.read_csv('non-parametric.csv', sep = ';').as_matrix()\n",
    "datax = data[:, 1]\n",
    "datay = data[:, -1]"
   ]
  },
  {
   "cell_type": "code",
   "execution_count": 3,
   "metadata": {},
   "outputs": [],
   "source": [
    "def f(x, y):\n",
    "    return y if -1 <= x <= 1 else 0\n",
    "def uniform(x):\n",
    "    return f(x, 0.5)\n",
    "def triangle(x):\n",
    "    return f(x, 1 - x)\n",
    "def epanechnikov(x):\n",
    "    return f(x, 3 / 4 * (1 - x ** 2))\n",
    "def quartic(x):\n",
    "    return f(x, 15 / 16 * (1 - x ** 2) ** 2)\n",
    "def triweight(x):\n",
    "    return f(x, 35 / 32 * (1 - x ** 2) ** 3)\n",
    "def gaussian(x):\n",
    "    return math.e ** (-1 / 2 * x ** 2) / (2 * math.pi) ** 0.5\n",
    "def cosine(x):\n",
    "    return f(x, math.pi / 4 * math.cos(x / 2 * math.pi))\n",
    "LOWESS_kernel = lambda u: (1 - u ** 2) ** 2 * (abs(u) <= 1)"
   ]
  },
  {
   "cell_type": "code",
   "execution_count": 4,
   "metadata": {},
   "outputs": [],
   "source": [
    "def get_weights1(x, X, kernel, h, i):\n",
    "    return np.array([kernel((x - xt) / h) for j, xt in enumerate(X) if j != i])"
   ]
  },
  {
   "cell_type": "code",
   "execution_count": 5,
   "metadata": {},
   "outputs": [],
   "source": [
    "def get_weights(x, X, kernel, h):\n",
    "    return np.array([kernel((x - xt) / h) for xt in X])"
   ]
  },
  {
   "cell_type": "code",
   "execution_count": 6,
   "metadata": {},
   "outputs": [],
   "source": [
    "class kNN:\n",
    "    def __init__(self, k, kernel):\n",
    "        self.k = k\n",
    "        self.kernel = kernel\n",
    "    def fit(self, X, Y):\n",
    "        self.X = X\n",
    "        self.Y = Y\n",
    "    def predict(self, x):\n",
    "        x_sort, y_sort = zip(*sorted(zip(self.X, self.Y), key = lambda xy: abs(x - xy[0])))\n",
    "        h = abs(x_sort[self.k - 1] - x)\n",
    "        ws = get_weights(x, self.X, self.kernel, h)\n",
    "        \n",
    "        if sum(ws) == 0:\n",
    "            return sum(y_sort[:self.k]) / self.k\n",
    "        return np.inner(ws, self.Y) / sum(ws)"
   ]
  },
  {
   "cell_type": "code",
   "execution_count": 7,
   "metadata": {},
   "outputs": [],
   "source": [
    "def MSE(y_true, y):\n",
    "    return sum((y_true - y) ** 2 / len(y))\n",
    "def RMSE(y_true, y):\n",
    "    return sum((y_true - y) ** 2 / len(y)) ** 0.5"
   ]
  },
  {
   "cell_type": "code",
   "execution_count": 8,
   "metadata": {},
   "outputs": [],
   "source": [
    "def loo(X, Y, model, params):\n",
    "    y_pred = []\n",
    "    for i in range(len(X)):\n",
    "        m = model(**params)\n",
    "        m.fit(np.delete(X, i, axis = 0), np.delete(Y, i, axis = 0))\n",
    "        y_pred.append(m.predict(X[i]))\n",
    "    return MSE(Y, y_pred)"
   ]
  },
  {
   "cell_type": "code",
   "execution_count": 9,
   "metadata": {},
   "outputs": [],
   "source": [
    "class GridSearch:\n",
    "    def __init__(self, model, params):\n",
    "        self.model = model\n",
    "        self.params = params\n",
    "    def fit(self, X, Y):\n",
    "        pkeys = self.params.keys()\n",
    "        pvalues = list(product(*self.params.values()))\n",
    "        res = []\n",
    "        \n",
    "        for v in pvalues:\n",
    "            local_ps = dict(zip(pkeys, v))\n",
    "            l_items = local_ps.copy()\n",
    "            res.append((loo(X, Y, self.model, local_ps), l_items))\n",
    "        minv = 1e10\n",
    "        for loov, ps in res:\n",
    "            if loov < minv:\n",
    "                minv = loov\n",
    "                self.best_params = ps\n",
    "                self.best_error = loov\n",
    "        return res"
   ]
  },
  {
   "cell_type": "code",
   "execution_count": 10,
   "metadata": {},
   "outputs": [],
   "source": [
    "def getLineWithoutOne(model, X, Y, params):\n",
    "    y_pred = []\n",
    "    for i in range(len(X)):\n",
    "        m = model(**params)\n",
    "        m.fit(X, Y)\n",
    "        y_pred.append(m.predict(X[i]))\n",
    "        \n",
    "    return list(zip(*sorted(zip(X, y_pred))))"
   ]
  },
  {
   "cell_type": "code",
   "execution_count": 11,
   "metadata": {},
   "outputs": [],
   "source": [
    "def getLineOnGrid(interval, step, method, X, Y, args):\n",
    "    y_pred = []\n",
    "    args['X'] = X\n",
    "    args['Y'] = Y\n",
    "    for x in np.arange(interval[0], interval[1], step):\n",
    "        y_pred.append(method(x, **args))        \n",
    "    return zip(*sorted(zip(X, y_pred)))"
   ]
  },
  {
   "cell_type": "code",
   "execution_count": 12,
   "metadata": {},
   "outputs": [],
   "source": [
    "class lowess:\n",
    "    def __init__(self, h, kernel):\n",
    "        self.h = h\n",
    "        self.kernel = kernel\n",
    "        \n",
    "    def fit(self, X, Y):\n",
    "        delta = np.ones((len(X), ), dtype = float)\n",
    "        self.X = X\n",
    "        self.Y = Y\n",
    "        for _ in range(3):\n",
    "            y_pred = []        \n",
    "            for i in range(len(X)):            \n",
    "                ws = get_weights1(X[i], X, self.kernel, self.h, i)\n",
    "                ws = np.insert(ws, i, 1, axis = 0)\n",
    "                ws = ws * delta\n",
    "                ws = np.delete(ws, i, axis = 0)\n",
    "                y_pred.append(np.inner(ws, np.delete(Y, i, axis = 0)) / sum(ws))\n",
    "                \n",
    "            s = np.median(abs(y_pred - Y))\n",
    "            eps = abs(y_pred - Y)\n",
    "            delta = LOWESS_kernel(eps / (6.0 * s))     \n",
    "        self.delta = delta\n",
    "        \n",
    "    def predict(self, x):\n",
    "        ws = get_weights(x, self.X, self.kernel, self.h)\n",
    "        ws = ws * self.delta\n",
    "        if sum(ws) == 0:\n",
    "            print('asdasd')\n",
    "        return np.inner(ws, self.Y) / sum(ws)"
   ]
  },
  {
   "cell_type": "code",
   "execution_count": 13,
   "metadata": {},
   "outputs": [
    {
     "name": "stdout",
     "output_type": "stream",
     "text": [
      "kNN best params: {'k': 21, 'kernel': <function quartic at 0x7fcfde810598>} MSE: 899.9869503034543\n"
     ]
    },
    {
     "data": {
      "image/png": "[encoded data removed]",
      "text/plain": [
       "<matplotlib.figure.Figure at 0x7fcfde80b748>"
      ]
     },
     "metadata": {},
     "output_type": "display_data"
    }
   ],
   "source": [
    "params = {'k' : list(range(15, 25)),\n",
    "          'kernel' : [quartic]\n",
    "         }\n",
    "gr = GridSearch(kNN, params)\n",
    "gr.fit(datax, datay)\n",
    "best_ps = gr.best_params\n",
    "best_err = gr.best_error\n",
    "\n",
    "print('kNN best params:', best_ps, 'MSE:', best_err)\n",
    "line = getLineWithoutOne(kNN, datax, datay, best_ps)\n",
    "plt.plot(line[0], line[1], label = 'kNN')\n",
    "plt.show()"
   ]
  },
  {
   "cell_type": "code",
   "execution_count": 14,
   "metadata": {},
   "outputs": [
    {
     "name": "stderr",
     "output_type": "stream",
     "text": [
      "/usr/lib/python3.6/site-packages/ipykernel_launcher.py:17: RuntimeWarning: invalid value encountered in double_scalars\n",
      "/usr/lib/python3.6/site-packages/numpy/lib/function_base.py:4033: RuntimeWarning: Invalid value encountered in median\n",
      "  r = func(a, **kwargs)\n",
      "/usr/lib/python3.6/site-packages/ipykernel_launcher.py:17: RuntimeWarning: invalid value encountered in less_equal\n"
     ]
    },
    {
     "name": "stdout",
     "output_type": "stream",
     "text": [
      "lowess best params: {'h': 3, 'kernel': <function triweight at 0x7fcfde810510>} MSE: 921.9053896173297\n"
     ]
    },
    {
     "data": {
      "text/plain": [
       "[<matplotlib.lines.Line2D at 0x7fcfde6c2390>]"
      ]
     },
     "execution_count": 14,
     "metadata": {},
     "output_type": "execute_result"
    },
    {
     "data": {
      "image/png": "[encoded data removed]",
      "text/plain": [
       "<matplotlib.figure.Figure at 0x7fcfde82cb70>"
      ]
     },
     "metadata": {},
     "output_type": "display_data"
    }
   ],
   "source": [
    "params = {'h' : np.arange(2, 4, 1),\n",
    "          'kernel' : [triweight]\n",
    "         }\n",
    "gr = GridSearch(lowess, params)\n",
    "gr.fit(datax, datay)\n",
    "best_ps = gr.best_params\n",
    "best_err = gr.best_error\n",
    "\n",
    "print('lowess best params:', best_ps, 'MSE:', best_err)\n",
    "line = getLineWithoutOne(lowess, datax, datay, best_ps)\n",
    "plt.plot(line[0], line[1], label = 'lowess')"
   ]
  },
  {
   "cell_type": "code",
   "execution_count": 15,
   "metadata": {},
   "outputs": [
    {
     "data": {
      "text/plain": [
       "[<matplotlib.lines.Line2D at 0x7fcfde6b0400>]"
      ]
     },
     "execution_count": 15,
     "metadata": {},
     "output_type": "execute_result"
    },
    {
     "data": {
      "image/png": "[encoded data removed]",
      "text/plain": [
       "<matplotlib.figure.Figure at 0x7fcfde82ccf8>"
      ]
     },
     "metadata": {},
     "output_type": "display_data"
    }
   ],
   "source": [
    "line = list(zip(*sorted(zip(datax, datay))))\n",
    "plt.plot(*line)"
   ]
  },
  {
   "cell_type": "code",
   "execution_count": null,
   "metadata": {},
   "outputs": [],
   "source": []
  }
 ],
 "metadata": {
  "kernelspec": {
   "display_name": "Python 3",
   "language": "python",
   "name": "python3"
  },
  "language_info": {
   "codemirror_mode": {
    "name": "ipython",
    "version": 3
   },
   "file_extension": ".py",
   "mimetype": "text/x-python",
   "name": "python",
   "nbconvert_exporter": "python",
   "pygments_lexer": "ipython3",
   "version": "3.6.4"
  }
 },
 "nbformat": 4,
 "nbformat_minor": 2
}

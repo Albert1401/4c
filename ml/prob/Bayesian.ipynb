{
 "cells": [
  {
   "cell_type": "code",
   "execution_count": 27,
   "metadata": {
    "collapsed": true
   },
   "outputs": [],
   "source": [
    "import numpy as np\n",
    "import os\n",
    "from itertools import chain, product\n",
    "from sklearn.metrics import accuracy_score, f1_score\n",
    "from math import log\n",
    "from matplotlib import pyplot as plt"
   ]
  },
  {
   "cell_type": "code",
   "execution_count": 28,
   "metadata": {
    "collapsed": true
   },
   "outputs": [],
   "source": [
    "ps = {}\n",
    "datax, datay = [], []\n",
    "for _ in range(10):\n",
    "    datax.append([])\n",
    "    datay.append([])    \n",
    "dim = 25000"
   ]
  },
  {
   "cell_type": "code",
   "execution_count": 29,
   "metadata": {
    "collapsed": true
   },
   "outputs": [],
   "source": [
    "def pairs(x):\n",
    "    n = len(x) + 2\n",
    "    x = list(chain([-1], x, [-2]))\n",
    "    \n",
    "    x_pairs = []\n",
    "    for i in range(n - 1):\n",
    "        x_pairs.append((min(x[i], x[i + 1]), max(x[i], x[i + 1])))\n",
    "    return x_pairs"
   ]
  },
  {
   "cell_type": "code",
   "execution_count": 30,
   "metadata": {
    "collapsed": true
   },
   "outputs": [],
   "source": [
    "def pair_data(datax):\n",
    "    newdata = []\n",
    "    for d in datax:\n",
    "        newdata.append(list(map(lambda msg: (pairs(msg[0]), pairs(msg[1])), d)))\n",
    "    return newdata"
   ]
  },
  {
   "cell_type": "code",
   "execution_count": 31,
   "metadata": {
    "collapsed": true
   },
   "outputs": [],
   "source": [
    "strtonp = lambda s: np.array(list(map(int, s.strip().split())))\n",
    "\n",
    "for i in range(1, 11):\n",
    "    dirname = 'Bayes/pu1/part' + str(i) + '/'\n",
    "    for fname in os.listdir(dirname):\n",
    "        with open(dirname + fname) as f:\n",
    "            sbj = f.readline()[8:]\n",
    "            f.readline()\n",
    "            body = f.readline()\n",
    "            \n",
    "            datax[i - 1].append((strtonp(sbj), strtonp(body)))\n",
    "            datay[i - 1].append(int('legit' in fname))\n",
    "pdatax = pair_data(datax)"
   ]
  },
  {
   "cell_type": "code",
   "execution_count": 32,
   "metadata": {
    "collapsed": true
   },
   "outputs": [],
   "source": [
    "def split(i, datax, datay):\n",
    "    x_train = []\n",
    "    y_train = []\n",
    "    for j in range(10):\n",
    "        if j == i:\n",
    "            x_test = datax[i]\n",
    "            y_test = datay[i]\n",
    "        else:\n",
    "            x_train += datax[j]\n",
    "            y_train += datay[j]\n",
    "    return x_train, y_train, x_test, y_test"
   ]
  },
  {
   "cell_type": "code",
   "execution_count": 33,
   "metadata": {
    "collapsed": true
   },
   "outputs": [],
   "source": [
    "def calc_probs_multinomial(x_train, y_train):\n",
    "    word_lkhd = {'sbj' : [{}, {}], 'bdy' : [{}, {}]}\n",
    "    words_count = {'sbj' : [0, 0], 'bdy' : [0, 0]}\n",
    "    legitcount = 0\n",
    "    size = len(x_train)\n",
    "    \n",
    "    for ((sbj, bdy), c) in zip(x_train, y_train):\n",
    "        legitcount += c\n",
    "        words_count['sbj'][c] += len(sbj)\n",
    "        words_count['bdy'][c] += len(bdy)\n",
    "        \n",
    "        for word in sbj:\n",
    "            word_lkhd['sbj'][c].setdefault(word, 0)\n",
    "            word_lkhd['sbj'][c][word] += 1\n",
    "        for word in bdy:\n",
    "            word_lkhd['bdy'][c].setdefault(word, 0)\n",
    "            word_lkhd['bdy'][c][word] += 1\n",
    "            \n",
    "    for c in range(2):\n",
    "        for part in ['sbj', 'bdy']:\n",
    "            for word in word_lkhd[part][c]:\n",
    "                word_lkhd[part][c][word] += 1\n",
    "                word_lkhd[part][c][word] /= words_count[part][c] + dim\n",
    "    return [1 - legitcount / size, legitcount / size], word_lkhd, words_count"
   ]
  },
  {
   "cell_type": "code",
   "execution_count": 126,
   "metadata": {
    "collapsed": true
   },
   "outputs": [],
   "source": [
    "maxt = 1e50"
   ]
  },
  {
   "cell_type": "code",
   "execution_count": 127,
   "metadata": {
    "collapsed": true
   },
   "outputs": [],
   "source": [
    "def predict_multinomial(x, threshold, probclass, word_lkhd, words_count, sbj_weight, yy = None):\n",
    "    global maxt\n",
    "    sbj, bdy = x\n",
    "    lks = [0, 0]\n",
    "           \n",
    "    def logp(part, word, c):\n",
    "        if word not in word_lkhd[part][c]:\n",
    "            return log(1 / (words_count[part][c] + dim))\n",
    "        else:\n",
    "            return log(word_lkhd[part][c][word])\n",
    "        \n",
    "    for c in range(0, 2):\n",
    "        for word in sbj:\n",
    "            lks[c] += sbj_weight * logp('sbj', word, c)\n",
    "        for word in bdy:\n",
    "            lks[c] += logp('bdy', word, c)\n",
    "        lks[c] += log(probclass[c])\n",
    "    if yy == 1:\n",
    "        maxt = min(maxt, lks[1] - lks[0])\n",
    "    return int(lks[1] - lks[0] > threshold)"
   ]
  },
  {
   "cell_type": "code",
   "execution_count": 128,
   "metadata": {
    "collapsed": true
   },
   "outputs": [],
   "source": [
    "class MultinomialBayes:\n",
    "    def __init__(self, threshold, sbj_weight):\n",
    "        self.threshold = threshold\n",
    "        self.sbj_weight = sbj_weight\n",
    "        \n",
    "    def fit(self, X, Y):\n",
    "        global ps\n",
    "        if id(X) not in ps:\n",
    "            ps[id(X)] = calc_probs_multinomial(X, Y)\n",
    "        self.probclass, self.word_lkhd, self.words_count = ps[id(X)]\n",
    "        for x, y in zip(X, Y):\n",
    "            predict_multinomial(x, self.threshold,\\\n",
    "                                             self.probclass, self.word_lkhd, \n",
    "                                             self.words_count, self.sbj_weight, y)\n",
    "    \n",
    "    def predict(self, X):\n",
    "        return np.array([predict_multinomial(x, self.threshold,\\\n",
    "                                             self.probclass, self.word_lkhd, \n",
    "                                             self.words_count, self.sbj_weight) for x in X])"
   ]
  },
  {
   "cell_type": "code",
   "execution_count": 129,
   "metadata": {
    "collapsed": true
   },
   "outputs": [],
   "source": [
    "def cross_validate(model, xy_folds, Q):\n",
    "    cv = 0\n",
    "    for x_train, y_train, x_test, y_test in xy_folds:\n",
    "        model.fit(x_train, y_train)\n",
    "        y_pred = model.predict(x_test)\n",
    "        cv += Q(y_test, y_pred) / len(xy_folds)\n",
    "    return cv"
   ]
  },
  {
   "cell_type": "code",
   "execution_count": 130,
   "metadata": {
    "collapsed": true
   },
   "outputs": [],
   "source": [
    "class GridSearch:\n",
    "    def __init__(self, model, Q, params):\n",
    "        self.model = model\n",
    "        self.params = params\n",
    "        self.Q = Q\n",
    "    \n",
    "    def fit(self, datax, datay):\n",
    "        pkeys = self.params.keys()\n",
    "        pvalues = list(product(*self.params.values()))\n",
    "        res = []\n",
    "        \n",
    "        xy_folds = []\n",
    "        for i in range(10):\n",
    "            xy_folds.append(split(i, datax, datay))\n",
    "        \n",
    "        for v in pvalues:\n",
    "            local_ps = dict(zip(pkeys, v))\n",
    "            res.append((cross_validate(self.model(**local_ps), xy_folds, self.Q), local_ps))\n",
    "        \n",
    "        minv = 1e10\n",
    "        for cv, ps in res:\n",
    "            if cv < minv:\n",
    "                minv = cv\n",
    "                self.best_params = ps\n",
    "                self.best_error = cv\n",
    "        return res"
   ]
  },
  {
   "cell_type": "code",
   "execution_count": 131,
   "metadata": {
    "collapsed": true
   },
   "outputs": [],
   "source": [
    "def draw_roc(model, min_threshold, max_threshold, x_train, y_train, x_test, y_test):\n",
    "    model.fit(x_train, y_train)\n",
    "    fpr = []\n",
    "    tpr = []\n",
    "    pos = sum(y_test)\n",
    "    neg = len(y_test) - pos\n",
    "    for t in np.arange(min_threshold, max_threshold, (max_threshold - min_threshold) / 300):\n",
    "        model.threshold = t\n",
    "        y_pred = model.predict(x_test)\n",
    "        \n",
    "        fpr.append(fp(y_test, y_pred) / neg)\n",
    "        tpr.append(tp(y_test, y_pred) / pos)\n",
    "    \n",
    "    plt.plot(fpr, tpr)\n",
    "    plt.show()"
   ]
  },
  {
   "cell_type": "code",
   "execution_count": 132,
   "metadata": {
    "collapsed": true
   },
   "outputs": [],
   "source": [
    "def L(y_true, y_pred):\n",
    "    return sum(abs(y_true - y_pred))\n",
    "def tp(y_true, y_pred):\n",
    "    return sum(y_true & y_pred)\n",
    "def fp(y_true, y_pred):\n",
    "    return sum(map(lambda t_p: t_p[0] == 0 and t_p[1] == 1, zip(y_true, y_pred)))\n",
    "def tn(y_true, y_pred):\n",
    "    return sum(map(lambda t_p: t_p[0] == 0 and t_p[1] == 0, zip(y_true, y_pred)))\n",
    "def fn(y_true, y_pred):\n",
    "    return sum(map(lambda t_p: t_p[0] == 1 and t_p[1] == 0, zip(y_true, y_pred)))\n",
    "def f1(y_true, y_pred):\n",
    "    return f1_score(y_true, y_pred)\n",
    "def f1Q(y_true, y_pred):\n",
    "    return 1 - f1_score(y_true, y_pred)"
   ]
  },
  {
   "cell_type": "code",
   "execution_count": 133,
   "metadata": {
    "collapsed": true
   },
   "outputs": [],
   "source": [
    "params = {\n",
    "    'threshold' : np.arange(-1.2, 1.0, 0.5),\n",
    "    'sbj_weight' : np.arange(3.8, 5, 0.3)\n",
    "}"
   ]
  },
  {
   "cell_type": "code",
   "execution_count": 134,
   "metadata": {
    "collapsed": true
   },
   "outputs": [],
   "source": [
    "x_tr, y_tr, x_te, y_te = split(2, datax, datay)"
   ]
  },
  {
   "cell_type": "code",
   "execution_count": 137,
   "metadata": {},
   "outputs": [
    {
     "data": {
      "text/plain": [
       "-158.71477700093055"
      ]
     },
     "execution_count": 137,
     "metadata": {},
     "output_type": "execute_result"
    }
   ],
   "source": [
    "maxt"
   ]
  },
  {
   "cell_type": "code",
   "execution_count": 146,
   "metadata": {},
   "outputs": [
    {
     "name": "stdout",
     "output_type": "stream",
     "text": [
      "f1: 0.985294117647\n",
      "fn: 13\n",
      "f1: 0.869358669834\n",
      "fn: 0\n"
     ]
    }
   ],
   "source": [
    "m = MultinomialBayes(**gs.best_params)\n",
    "m.fit(x_tr, y_tr)\n",
    "y_pred = m.predict(x_tr)\n",
    "print('f1:', f1_score(y_tr, y_pred))\n",
    "print('fn:', sum([y1 == 0 and y2 == 1 for y1, y2 in zip(y_pred, y_tr)]))\n",
    "\n",
    "m.threshold = maxt - 1e-10\n",
    "y_pred = m.predict(x_tr)\n",
    "print('f1:', f1_score(y_tr, y_pred))\n",
    "print('fn:', sum([y1 == 0 and y2 == 1 for y1, y2 in zip(y_pred, y_tr)]))\n"
   ]
  },
  {
   "cell_type": "code",
   "execution_count": 21,
   "metadata": {},
   "outputs": [],
   "source": [
    "gs = GridSearch(MultinomialBayes, f1Q, params)\n",
    "res = gs.fit(datax, datay)"
   ]
  },
  {
   "cell_type": "code",
   "execution_count": 22,
   "metadata": {},
   "outputs": [
    {
     "name": "stdout",
     "output_type": "stream",
     "text": [
      "Best params: {'threshold': -1.0, 'sbj_weight': 4.2000000000000002}\n",
      "f1: 0.969198896623\n"
     ]
    }
   ],
   "source": [
    "print('Best params:', gs.best_params)\n",
    "print('f1:', 1 - gs.best_error)"
   ]
  },
  {
   "cell_type": "code",
   "execution_count": 23,
   "metadata": {},
   "outputs": [
    {
     "data": {
      "image/png": "[encoded data removed]",
      "text/plain": [
       "<matplotlib.figure.Figure at 0x2924b7cb470>"
      ]
     },
     "metadata": {},
     "output_type": "display_data"
    }
   ],
   "source": [
    "draw_roc(MultinomialBayes(**gs.best_params), -1000, 1000, *split(0, datax, datay))"
   ]
  },
  {
   "cell_type": "code",
   "execution_count": 24,
   "metadata": {},
   "outputs": [],
   "source": [
    "gs1 = GridSearch(MultinomialBayes, f1Q, params)\n",
    "res1 = gs1.fit(pdatax, datay)"
   ]
  },
  {
   "cell_type": "code",
   "execution_count": 25,
   "metadata": {},
   "outputs": [
    {
     "data": {
      "image/png": "[encoded data removed]",
      "text/plain": [
       "<matplotlib.figure.Figure at 0x29245ef5438>"
      ]
     },
     "metadata": {},
     "output_type": "display_data"
    }
   ],
   "source": [
    "draw_roc(MultinomialBayes(**gs.best_params), -1000, 1000, *split(0, pdatax, datay))"
   ]
  }
 ],
 "metadata": {
  "kernelspec": {
   "display_name": "Python 3",
   "language": "python",
   "name": "python3"
  },
  "language_info": {
   "codemirror_mode": {
    "name": "ipython",
    "version": 3
   },
   "file_extension": ".py",
   "mimetype": "text/x-python",
   "name": "python",
   "nbconvert_exporter": "python",
   "pygments_lexer": "ipython3",
   "version": "3.6.4"
  }
 },
 "nbformat": 4,
 "nbformat_minor": 2
}

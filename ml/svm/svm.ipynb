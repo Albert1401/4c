{
 "cells": [
  {
   "cell_type": "code",
   "execution_count": 549,
   "metadata": {
    "collapsed": true,
    "scrolled": true
   },
   "outputs": [],
   "source": [
    "import numpy as np\n",
    "import pandas as pd\n",
    "import matplotlib.pyplot as plt\n",
    "from sklearn.model_selection import train_test_split\n",
    "from scipy.optimize import minimize \n",
    "from sklearn.metrics import f1_score\n",
    "import math\n",
    "from sklearn import svm as imsvm\n",
    "from scipy.optimize import fsolve\n",
    "from itertools import chain, count, islice\n",
    "from sklearn.metrics.pairwise import pairwise_kernels\n",
    "from sklearn.utils import check_array, check_random_state\n",
    "from itertools import product\n",
    "from sklearn.model_selection import KFold\n",
    "from sklearn.neighbors import KNeighborsClassifier\n",
    "from sklearn.model_selection import GridSearchCV\n",
    "import scipy as sp"
   ]
  },
  {
   "cell_type": "code",
   "execution_count": 550,
   "metadata": {
    "collapsed": true
   },
   "outputs": [],
   "source": [
    "linear = lambda x, y: np.squeeze(np.inner(x, y))\n",
    "def gauss(sigm):\n",
    "#     x1, x2 = x\n",
    "#     y1, y2 = y\n",
    "#     x = [x1 ** 2 + x2 ** 2, math.atan2(x2, x1)]\n",
    "#     y = [x1 ** 2 + x2 ** 2, math.atan2(x2, x1)]\n",
    "    return lambda x, y: np.squeeze(np.exp(-np.square(np.linalg.norm(x - y, axis=-1)) / sigm))"
   ]
  },
  {
   "cell_type": "code",
   "execution_count": 551,
   "metadata": {
    "collapsed": true
   },
   "outputs": [],
   "source": [
    "class SVM:\n",
    "    def __init__(self, kernel=('linear', 0.1), C=1.,):\n",
    "        if kernel[0] == 'linear':\n",
    "            self.kernel = linear\n",
    "        elif kernel[0] == 'gauss':\n",
    "            self.kernel = gauss(kernel[1])\n",
    "        self.C = C\n",
    "            \n",
    "    def fit(self, X, y):\n",
    "#         X = X[:, np.newaxis, ...]\n",
    "        n = len(y)\n",
    "        self.X = X\n",
    "        self.y = y\n",
    "        \n",
    "        Q = self.kernel(X[:, np.newaxis, ...], X[np.newaxis, ...])        \n",
    "        y1 = y[:, np.newaxis]\n",
    "        Q = y1.dot(y1.T) * Q / 2\n",
    "\n",
    "        def tomin(lambdas):\n",
    "            res = lambdas.T.dot(Q).dot(lambdas)\n",
    "            res -= lambdas.sum(axis = 0)\n",
    "            return res\n",
    "        \n",
    "        \n",
    "        constraints = (\n",
    "            {'type': 'eq', 'fun': lambda x: np.inner(y, x)},\n",
    "            {'type': 'ineq', 'fun': lambda x: x},\n",
    "            {'type': 'ineq', 'fun': lambda x: self.C - x}\n",
    "        )\n",
    "        startx = np.random.rand(n) * self.C\n",
    "        lambda_res = minimize(fun=tomin, x0=startx, constraints=constraints)\n",
    "#         constraints = (\n",
    "#             {'type': 'eq', 'fun': lambda x: np.inner(y, x)}\n",
    "#         )\n",
    "#         startx = np.random.rand(n) * self.C\n",
    "#         lambda_res = minimize(fun=tomin, x0=startx, constraints=constraints\n",
    "#                               , bounds = [(0, self.C)] * n\n",
    "#                               , method = 'SLSQP')\n",
    "        self.lambdas = lambda_res.x\n",
    "        \n",
    "        self.c = np.median(Q.dot(self.lambdas * y) - y)\n",
    "\n",
    "    def predict(self, X):\n",
    "        X = X[np.newaxis, ...]\n",
    "#         print(X[0])\n",
    "        KK = self.kernel(self.X[np.newaxis, ...], X[:, np.newaxis, ...])\n",
    "        pred = KK.dot(self.lambdas * self.y) - self.c\n",
    "        return (pred > 0) * 2 - 1"
   ]
  },
  {
   "cell_type": "code",
   "execution_count": 552,
   "metadata": {
    "collapsed": true
   },
   "outputs": [],
   "source": [
    "def gen(n):\n",
    "    x = np.random.rand(n, 2) * 2 - 1\n",
    "    y = np.array([int(xx[1] > 0) * 2 - 1 for xx in x])\n",
    "    return x, y"
   ]
  },
  {
   "cell_type": "code",
   "execution_count": 553,
   "metadata": {
    "collapsed": true
   },
   "outputs": [],
   "source": [
    "def load(fname):\n",
    "    with open(fname) as fin:\n",
    "        data = np.array([list(map(float, s[:-1].split(','))) for s in fin.readlines()])\n",
    "        return data.T[:-1].T, data.T[-1].T * 2 - 1"
   ]
  },
  {
   "cell_type": "code",
   "execution_count": 554,
   "metadata": {
    "collapsed": true
   },
   "outputs": [],
   "source": [
    "X, Y = load('chips.txt')"
   ]
  },
  {
   "cell_type": "code",
   "execution_count": 555,
   "metadata": {
    "collapsed": true
   },
   "outputs": [],
   "source": [
    "X.T[0] -= np.mean(X.T[0])\n",
    "X.T[0] /= np.std(X.T[0])\n",
    "X.T[1] -= np.mean(X.T[1])\n",
    "X.T[1] /= np.std(X.T[1])"
   ]
  },
  {
   "cell_type": "code",
   "execution_count": 556,
   "metadata": {},
   "outputs": [],
   "source": [
    "cl = SVM(kernel=('gauss', 0.1), C = 11)\n",
    "cl.fit(X, Y)"
   ]
  },
  {
   "cell_type": "code",
   "execution_count": 557,
   "metadata": {
    "scrolled": false
   },
   "outputs": [
    {
     "data": {
      "text/plain": [
       "{-1, 1}"
      ]
     },
     "execution_count": 557,
     "metadata": {},
     "output_type": "execute_result"
    }
   ],
   "source": [
    "set([cl.predict(x[np.newaxis, ...]) for x in X])"
   ]
  },
  {
   "cell_type": "code",
   "execution_count": 558,
   "metadata": {},
   "outputs": [
    {
     "data": {
      "image/png": "[encoded data removed]",
      "text/plain": [
       "<matplotlib.figure.Figure at 0x218bfb4b198>"
      ]
     },
     "metadata": {},
     "output_type": "display_data"
    }
   ],
   "source": [
    "for x, y in zip(X, Y):\n",
    "    y_pr = cl.predict(x)\n",
    "    c = 'b' if y > 0 else 'r'\n",
    "    s = 'o' if y_pr == y else 'x'\n",
    "    plt.plot(x[0], x[1], s + c)\n",
    "plt.show()"
   ]
  },
  {
   "cell_type": "code",
   "execution_count": 559,
   "metadata": {},
   "outputs": [
    {
     "data": {
      "text/plain": [
       "0.94915254237288149"
      ]
     },
     "execution_count": 559,
     "metadata": {},
     "output_type": "execute_result"
    }
   ],
   "source": [
    "f1_score(Y, [cl.predict(x[np.newaxis, ...]) for x in X])"
   ]
  },
  {
   "cell_type": "code",
   "execution_count": 560,
   "metadata": {
    "collapsed": true
   },
   "outputs": [],
   "source": [
    "def cross_validate(model, xy_folds, Q):\n",
    "    cv = 0\n",
    "    for x_train, y_train, x_test, y_test in xy_folds:\n",
    "        model.fit(x_train, y_train)\n",
    "        y_pred = np.array([model.predict(x) for x in x_test])\n",
    "        cv += Q(y_test, y_pred) / len(xy_folds)\n",
    "    return cv"
   ]
  },
  {
   "cell_type": "code",
   "execution_count": 561,
   "metadata": {
    "collapsed": true
   },
   "outputs": [],
   "source": [
    "class GridSearch:\n",
    "    def __init__(self, model, Q, params, t, k):\n",
    "        self.model = model\n",
    "        self.params = params\n",
    "        self.Q = Q\n",
    "        self.k = k\n",
    "        self.t = t\n",
    "    \n",
    "    def fit(self, X, y):\n",
    "        global xy_folds\n",
    "        pkeys = self.params.keys()\n",
    "        pvalues = list(product(*self.params.values()))\n",
    "        res = []\n",
    "        \n",
    "        xy_folds = []\n",
    "        k = self.k\n",
    "        \n",
    "        inds = np.arange(len(X))\n",
    "        np.random.shuffle(inds)\n",
    "        Xk = X[inds]\n",
    "        yk = y[inds]\n",
    "            \n",
    "        for i in range(k):\n",
    "            l = math.ceil(i * len(X) / self.k)\n",
    "            if i == k - 1:\n",
    "                r = len(X)\n",
    "            else:\n",
    "                r = math.ceil((i + 1) * len(X) / self.k)\n",
    "            x_train = np.append(Xk[:l], Xk[r:], axis = 0)\n",
    "            y_train = np.append(yk[:l], yk[r:], axis = 0)\n",
    "            x_test = Xk[l:r]\n",
    "            y_test = yk[l:r]\n",
    "#             print(list(map(len, [x_train, y_train, x_test, y_test])))\n",
    "\n",
    "            xy_folds.append((x_train, y_train, x_test, y_test))\n",
    "        \n",
    "        for v in pvalues:\n",
    "            local_ps = dict(zip(pkeys, v))\n",
    "            print(local_ps)\n",
    "            res.append((cross_validate(self.model(**local_ps), xy_folds, self.Q), local_ps))\n",
    "        \n",
    "        minv = 1e10\n",
    "        for cv, ps in res:\n",
    "            if cv < minv:\n",
    "                minv = cv\n",
    "                self.best_params = ps\n",
    "                self.best_error = cv\n",
    "        return res"
   ]
  },
  {
   "cell_type": "code",
   "execution_count": 583,
   "metadata": {},
   "outputs": [],
   "source": [
    "params = {\n",
    "    'kernel' : [('gauss', a) for a in np.arange(0.24, 0.26, 0.02)],\n",
    "    'C' : np.arange(5, 7, 1)\n",
    "}"
   ]
  },
  {
   "cell_type": "code",
   "execution_count": 618,
   "metadata": {
    "collapsed": true
   },
   "outputs": [],
   "source": [
    "K = 10"
   ]
  },
  {
   "cell_type": "code",
   "execution_count": 634,
   "metadata": {},
   "outputs": [
    {
     "name": "stdout",
     "output_type": "stream",
     "text": [
      "{'kernel': ('gauss', 0.23999999999999999), 'C': 5}\n"
     ]
    },
    {
     "name": "stderr",
     "output_type": "stream",
     "text": [
      "c:\\python\\lib\\site-packages\\sklearn\\metrics\\classification.py:1135: UndefinedMetricWarning: F-score is ill-defined and being set to 0.0 due to no predicted samples.\n",
      "  'precision', 'predicted', average, warn_for)\n"
     ]
    },
    {
     "name": "stdout",
     "output_type": "stream",
     "text": [
      "{'kernel': ('gauss', 0.23999999999999999), 'C': 6}\n",
      "{'kernel': ('gauss', 0.26000000000000001), 'C': 5}\n",
      "{'kernel': ('gauss', 0.26000000000000001), 'C': 6}\n"
     ]
    }
   ],
   "source": [
    "gs = GridSearch(SVM, lambda y_true, y_pred: 1 - f1_score(y_true, y_pred), params, 0, K)\n",
    "res = gs.fit(X, Y)"
   ]
  },
  {
   "cell_type": "code",
   "execution_count": 635,
   "metadata": {},
   "outputs": [
    {
     "name": "stdout",
     "output_type": "stream",
     "text": [
      "Best params: {'kernel': ('gauss', 0.26000000000000001), 'C': 5}\n",
      "f1: 0.66201931883\n"
     ]
    }
   ],
   "source": [
    "print('Best params:', gs.best_params)\n",
    "print('f1:', 1 - gs.best_error)\n",
    "svm_params = gs.best_params"
   ]
  },
  {
   "cell_type": "code",
   "execution_count": null,
   "metadata": {
    "collapsed": true
   },
   "outputs": [],
   "source": [
    "knn.predict()"
   ]
  },
  {
   "cell_type": "code",
   "execution_count": 636,
   "metadata": {},
   "outputs": [],
   "source": [
    "svm = SVM(**gs.best_params)\n",
    "svm.fit(X, Y)"
   ]
  },
  {
   "cell_type": "code",
   "execution_count": 637,
   "metadata": {},
   "outputs": [
    {
     "data": {
      "text/plain": [
       "0.90625"
      ]
     },
     "execution_count": 637,
     "metadata": {},
     "output_type": "execute_result"
    }
   ],
   "source": [
    "f1_score(Y, [svm.predict(x[np.newaxis, ...]) for x in X])"
   ]
  },
  {
   "cell_type": "code",
   "execution_count": 638,
   "metadata": {},
   "outputs": [
    {
     "data": {
      "image/png": "[encoded data removed]",
      "text/plain": [
       "<matplotlib.figure.Figure at 0x218bfb75b70>"
      ]
     },
     "metadata": {},
     "output_type": "display_data"
    }
   ],
   "source": [
    "for x, y in zip(X, Y):\n",
    "    y_pr = cl.predict(x)\n",
    "    c = 'b' if y > 0 else 'r'\n",
    "    s = 'o' if y_pr == y else 'x'\n",
    "    plt.plot(x[0], x[1], s + c)\n",
    "plt.show()"
   ]
  },
  {
   "cell_type": "code",
   "execution_count": 639,
   "metadata": {},
   "outputs": [],
   "source": [
    "knn = KNeighborsClassifier()"
   ]
  },
  {
   "cell_type": "code",
   "execution_count": 640,
   "metadata": {},
   "outputs": [
    {
     "data": {
      "text/plain": [
       "GridSearchCV(cv=None, error_score='raise',\n",
       "       estimator=KNeighborsClassifier(algorithm='auto', leaf_size=30, metric='minkowski',\n",
       "           metric_params=None, n_jobs=1, n_neighbors=5, p=2,\n",
       "           weights='uniform'),\n",
       "       fit_params=None, iid=True, n_jobs=1,\n",
       "       param_grid={'n_neighbors': [4, 5, 6, 7, 8, 9, 10, 11, 12], 'p': [2, 3, 4]},\n",
       "       pre_dispatch='2*n_jobs', refit=True, return_train_score='warn',\n",
       "       scoring='f1', verbose=0)"
      ]
     },
     "execution_count": 640,
     "metadata": {},
     "output_type": "execute_result"
    }
   ],
   "source": [
    "knn_params = {\n",
    "    'n_neighbors' : list(range(4, 13)),\n",
    "    'p' : [2,3,4]\n",
    "}\n",
    "gs = GridSearchCV(knn, knn_params, scoring='f1')\n",
    "gs.fit(X, Y)"
   ]
  },
  {
   "cell_type": "code",
   "execution_count": 641,
   "metadata": {},
   "outputs": [],
   "source": [
    "knn = gs.best_estimator_"
   ]
  },
  {
   "cell_type": "code",
   "execution_count": 642,
   "metadata": {
    "collapsed": true
   },
   "outputs": [],
   "source": [
    "svmf1s = np.zeros((K,))\n",
    "knnf1s = np.zeros((K,))"
   ]
  },
  {
   "cell_type": "code",
   "execution_count": 643,
   "metadata": {},
   "outputs": [],
   "source": [
    "i = 0\n",
    "for x_train, y_train, x_test, y_test in xy_folds:\n",
    "    knn.fit(x_train, y_train)\n",
    "    cl.fit(x_train, y_train)\n",
    "    knnf1s[i] = f1_score(y_test, knn.predict(x_test))\n",
    "    svmf1s[i] = f1_score(y_test, [cl.predict(x) for x in x_test])\n",
    "    i += 1"
   ]
  },
  {
   "cell_type": "code",
   "execution_count": 644,
   "metadata": {},
   "outputs": [
    {
     "name": "stdout",
     "output_type": "stream",
     "text": [
      "[ 0.54545455  0.6         0.76923077  0.61538462  0.          0.46153846\n",
      "  0.70588235  0.71428571  0.54545455  0.85714286]\n",
      "[ 0.66666667  0.75        0.28571429  0.5         0.4         0.36363636\n",
      "  0.875       0.76923077  0.54545455  0.90909091]\n"
     ]
    }
   ],
   "source": [
    "print(svmf1s)\n",
    "print(knnf1s)"
   ]
  },
  {
   "cell_type": "code",
   "execution_count": 645,
   "metadata": {
    "collapsed": true
   },
   "outputs": [],
   "source": [
    "signs = svmf1s - knnf1s\n",
    "diffs = np.abs(svmf1s - knnf1s)[signs != 0]\n",
    "signs = signs[signs != 0]"
   ]
  },
  {
   "cell_type": "code",
   "execution_count": 649,
   "metadata": {},
   "outputs": [
    {
     "name": "stdout",
     "output_type": "stream",
     "text": [
      "12\n"
     ]
    }
   ],
   "source": [
    "almost_rangs = np.argsort(diffs) + 1\n",
    "rp = np.sum((signs > 0) * almost_rangs)\n",
    "rm = np.sum((signs < 0) * almost_rangs)\n",
    "print(min(rp, rm))"
   ]
  },
  {
   "cell_type": "code",
   "execution_count": 647,
   "metadata": {
    "collapsed": true
   },
   "outputs": [],
   "source": [
    "N = len(signs)\n",
    "x = (min(rp, rm) - N * (N + 1) * 0.25) / np.sqrt(N * (N + 1) * (2 * N + 1) / 24)"
   ]
  },
  {
   "cell_type": "code",
   "execution_count": 648,
   "metadata": {},
   "outputs": [
    {
     "name": "stdout",
     "output_type": "stream",
     "text": [
      "p-value  0.106762177018\n"
     ]
    }
   ],
   "source": [
    "pval = sp.stats.norm.sf(abs(x))\n",
    "print('p-value ', pval)"
   ]
  },
  {
   "cell_type": "code",
   "execution_count": null,
   "metadata": {
    "collapsed": true
   },
   "outputs": [],
   "source": []
  }
 ],
 "metadata": {
  "kernelspec": {
   "display_name": "Python 3",
   "language": "python",
   "name": "python3"
  },
  "language_info": {
   "codemirror_mode": {
    "name": "ipython",
    "version": 3
   },
   "file_extension": ".py",
   "mimetype": "text/x-python",
   "name": "python",
   "nbconvert_exporter": "python",
   "pygments_lexer": "ipython3",
   "version": "3.6.4"
  }
 },
 "nbformat": 4,
 "nbformat_minor": 2
}

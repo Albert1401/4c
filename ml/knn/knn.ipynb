{
 "cells": [
  {
   "cell_type": "code",
   "execution_count": 1,
   "metadata": {},
   "outputs": [],
   "source": [
    "import numpy as np\n",
    "import pandas as pd\n",
    "import matplotlib.pyplot as plt\n",
    "from sklearn.model_selection import train_test_split\n",
    "import math "
   ]
  },
  {
   "cell_type": "code",
   "execution_count": 2,
   "metadata": {
    "collapsed": true
   },
   "outputs": [],
   "source": [
    "def load(fname):\n",
    "    with open(fname) as fin:\n",
    "        return np.array([list(map(float, s[:-1].split(','))) for s in fin.readlines()])"
   ]
  },
  {
   "cell_type": "code",
   "execution_count": 3,
   "metadata": {
    "collapsed": true
   },
   "outputs": [],
   "source": [
    "def show_data(data):\n",
    "    for [x,y,label] in data:\n",
    "        plt.plot(x,y, 'bo' if label < 0.5 else 'ro')\n",
    "    plt.show()"
   ]
  },
  {
   "cell_type": "code",
   "execution_count": 4,
   "metadata": {
    "collapsed": true
   },
   "outputs": [],
   "source": [
    "def getMinkowskiDistance(p):\n",
    "    return lambda a, b : sum(abs(a - b) ** p) ** (1 / p)"
   ]
  },
  {
   "cell_type": "code",
   "execution_count": 31,
   "metadata": {
    "collapsed": true
   },
   "outputs": [],
   "source": [
    "class kNN:\n",
    "    def __init__(self, data, k = 5, p = 2):\n",
    "        self.k = k\n",
    "        self.p = p\n",
    "        self.data = data\n",
    "        \n",
    "    def solve(self, x):\n",
    "        ro = getMinkowskiDistance(self.p)\n",
    "        d = sorted(self.data, key = lambda z: ro(x,z[:-1]))\n",
    "        classes = {}\n",
    "        for i in range(self.k):\n",
    "            classes.setdefault(d[i][-1], 0)\n",
    "            classes[d[i][-1]] += 1\n",
    "        \n",
    "        mx = max(classes.values())\n",
    "        for c in classes:\n",
    "            if classes[c] == mx:\n",
    "                return c "
   ]
  },
  {
   "cell_type": "code",
   "execution_count": 32,
   "metadata": {
    "collapsed": true
   },
   "outputs": [],
   "source": [
    "def f(x, y):\n",
    "    return y if x < 1 else 0\n",
    "def uniform(x):\n",
    "    return f(x, 0.5)\n",
    "def triangle(x):\n",
    "    return f(x, 1 - x)\n",
    "def epanechnikov(x):\n",
    "    return f(x, 3 / 4 * (1 - x ** 2))\n",
    "def quartic(x):\n",
    "    return f(x, 15 / 16 * (1 - x ** 2) ** 2)\n",
    "def triweight(x):\n",
    "    return f(x, 35 / 32 * (1 - x ** 2) ** 3)\n",
    "def gaussian(x):\n",
    "    return math.e ** (-1 / 2 * x ** 2) / (2 * math.pi) ** 0.5\n",
    "def cosine(x):\n",
    "    return f(x, math.pi / 4 * math.cos(x / 2 * math.pi))"
   ]
  },
  {
   "cell_type": "code",
   "execution_count": 7,
   "metadata": {},
   "outputs": [],
   "source": [
    "class PRWindow:        \n",
    "    def __init__(self, data, k = 5, p = 2, kernel = uniform):\n",
    "        self.data = data\n",
    "        self.k = k\n",
    "        self.p = p\n",
    "        self.kernel = kernel\n",
    "    \n",
    "    def getC(self, x):\n",
    "        ro = getMinkowskiDistance(self.p)\n",
    "        d = sorted(self.data, key = lambda z: ro(x, z[:-1]))\n",
    "        classes = {}\n",
    "        for xi in d:\n",
    "            classes.setdefault(xi[-1], 0)\n",
    "            classes[xi[-1]] += self.kernel(ro(x, xi[:-1]) / ro(x, d[self.k][:-1]))\n",
    "        \n",
    "        return classes\n",
    "\n",
    "    \n",
    "    def fit(self, x):\n",
    "        classes = self.getC(x)\n",
    "        return max([(classes[cl], cl) for cl in classes])[1]\n",
    "    \n",
    "    def margin(self, x, y):\n",
    "        classes = self.getC(x)\n",
    "        return classes[y] - max([(classes[cl], cl) for cl in classes if cl != y])[0]\n",
    "        \n"
   ]
  },
  {
   "cell_type": "code",
   "execution_count": 8,
   "metadata": {},
   "outputs": [],
   "source": [
    "def show_model():\n",
    "    b, d = data.max(axis=0)[:-1]\n",
    "    a, c = data.min(axis=0)[:-1]\n",
    "    \n",
    "    n = 25\n",
    "    \n",
    "    for i in range(n):\n",
    "        for j in range(n):\n",
    "            x, y = a + (b - a) / n * i, c + (d - c) / n * j\n",
    "            rs = knn.solve([x, y])\n",
    "            plt.plot(x, y, 'b+' if rs < 0.5 else 'r+')\n",
    "    plt.show()"
   ]
  },
  {
   "cell_type": "code",
   "execution_count": 9,
   "metadata": {
    "collapsed": true
   },
   "outputs": [],
   "source": [
    "def L(model, x):\n",
    "    return int(model.fit(x[:-1]) != x[-1])\n",
    "\n",
    "def Q(model, xs):\n",
    "    return sum(map(lambda p: L(model, p), xs)) / len(xs)\n",
    "\n",
    "def CV(model, t):\n",
    "    step = len(data) / t\n",
    "    err = 0\n",
    "    for i in range(t):\n",
    "        l, r = int(step * i), int(step * (i + 1))\n",
    "        model.data = np.append(data[ : l], data[r : ], axis = 0)\n",
    "        err += Q(model, data[l : r])\n",
    "    return err / t"
   ]
  },
  {
   "cell_type": "code",
   "execution_count": 10,
   "metadata": {},
   "outputs": [],
   "source": [
    "def setk(model, k, t):\n",
    "    model.k = k\n",
    "    return CV(model, t)\n",
    "\n",
    "def grid_search(model, ks, t):\n",
    "    return ks[np.array(list(map(lambda k: setk(model, k, t), ks))).argmin()]"
   ]
  },
  {
   "cell_type": "code",
   "execution_count": 11,
   "metadata": {
    "collapsed": true
   },
   "outputs": [],
   "source": [
    "data = load('chips.txt')"
   ]
  },
  {
   "cell_type": "code",
   "execution_count": 12,
   "metadata": {
    "scrolled": true
   },
   "outputs": [
    {
     "data": {
      "image/png": "[encoded data removed]",
      "text/plain": [
       "<matplotlib.figure.Figure at 0x7efcbfec0b00>"
      ]
     },
     "metadata": {},
     "output_type": "display_data"
    }
   ],
   "source": [
    "show_data(data)"
   ]
  },
  {
   "cell_type": "code",
   "execution_count": 143,
   "metadata": {},
   "outputs": [
    {
     "data": {
      "text/plain": [
       "40"
      ]
     },
     "execution_count": 143,
     "metadata": {},
     "output_type": "execute_result"
    }
   ],
   "source": [
    "seed = np.random.randint(1, 100)\n",
    "seed"
   ]
  },
  {
   "cell_type": "code",
   "execution_count": 144,
   "metadata": {},
   "outputs": [],
   "source": [
    "testsize = 40\n",
    "train, test = train_test_split(data, train_size = len(data) - testsize, test_size = testsize, random_state = seed)"
   ]
  },
  {
   "cell_type": "code",
   "execution_count": 145,
   "metadata": {
    "scrolled": true
   },
   "outputs": [],
   "source": [
    "knn = PRWindow(train, p = 2)\n",
    "bestk = grid_search(knn, range(1, 20, 2), len(data) - testsize)"
   ]
  },
  {
   "cell_type": "code",
   "execution_count": 146,
   "metadata": {},
   "outputs": [
    {
     "name": "stdout",
     "output_type": "stream",
     "text": [
      "7\n"
     ]
    }
   ],
   "source": [
    "knn.data = train\n",
    "knn.k = bestk\n",
    "print(bestk)"
   ]
  },
  {
   "cell_type": "code",
   "execution_count": 147,
   "metadata": {},
   "outputs": [
    {
     "data": {
      "text/plain": [
       "0.25"
      ]
     },
     "execution_count": 147,
     "metadata": {},
     "output_type": "execute_result"
    }
   ],
   "source": [
    "Q(knn, test)"
   ]
  },
  {
   "cell_type": "code",
   "execution_count": 23,
   "metadata": {},
   "outputs": [
    {
     "data": {
      "image/png": "[encoded data removed]",
      "text/plain": [
       "<matplotlib.figure.Figure at 0x7efcbf9c32b0>"
      ]
     },
     "metadata": {},
     "output_type": "display_data"
    }
   ],
   "source": [
    "ms = []\n",
    "for i in range(len(train)):\n",
    "    knn.data = np.append(train[:i], train[i + 1:], axis = 0)\n",
    "    m = knn.margin(train[i][:-1], train[i][-1])\n",
    "    ms.append(m)\n",
    "    if m <= -1:\n",
    "        plt.plot(train[i][0], train[i][1], 'bx' if train[i][-1] < 0.5 else 'rx')\n",
    "    else:\n",
    "        plt.plot(train[i][0], train[i][1], 'bo' if train[i][-1] < 0.5 else 'ro')\n",
    "#list(map(print, sorted(zip(map(lambda x: (x[0], x[1], x[2]), train), ms))))\n",
    "plt.show()"
   ]
  },
  {
   "cell_type": "code",
   "execution_count": 97,
   "metadata": {},
   "outputs": [
    {
     "data": {
      "image/png": "[encoded data removed]",
      "text/plain": [
       "<matplotlib.figure.Figure at 0x7efcbf768518>"
      ]
     },
     "metadata": {},
     "output_type": "display_data"
    },
    {
     "data": {
      "image/png": "[encoded data removed]",
      "text/plain": [
       "<matplotlib.figure.Figure at 0x7efcbf6a2a58>"
      ]
     },
     "metadata": {},
     "output_type": "display_data"
    }
   ],
   "source": [
    "show_data(train)\n",
    "show_data(test)"
   ]
  },
  {
   "cell_type": "code",
   "execution_count": null,
   "metadata": {
    "collapsed": true
   },
   "outputs": [],
   "source": []
  }
 ],
 "metadata": {
  "kernelspec": {
   "display_name": "Python 3",
   "language": "python",
   "name": "python3"
  },
  "language_info": {
   "codemirror_mode": {
    "name": "ipython",
    "version": 3
   },
   "file_extension": ".py",
   "mimetype": "text/x-python",
   "name": "python",
   "nbconvert_exporter": "python",
   "pygments_lexer": "ipython3",
   "version": "3.6.2"
  }
 },
 "nbformat": 4,
 "nbformat_minor": 2
}
